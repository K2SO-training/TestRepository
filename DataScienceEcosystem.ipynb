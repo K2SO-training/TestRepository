{
 "cells": [
  {
   "cell_type": "markdown",
   "id": "2b867bec-34ac-4340-b103-53e4d0792260",
   "metadata": {},
   "source": [
    "# Data Science Tools and Ecosystem"
   ]
  },
  {
   "cell_type": "markdown",
   "id": "0c719672-407c-4095-b3bb-df0b9c97bdfa",
   "metadata": {},
   "source": [
    "In this notebook, Data Science Tools and Ecosystem are summarized."
   ]
  },
  {
   "cell_type": "markdown",
   "id": "138042b2-93ef-4d1a-87e3-8b28f87305fa",
   "metadata": {},
   "source": [
    "**Objectives:**\n",
    "- List popular Data Science languages\n",
    "- List common Data Science languages\n",
    "- List common Data Science Tools"
   ]
  },
  {
   "cell_type": "markdown",
   "id": "b585a5fc-5bc5-40bf-a0ad-65bd593a1271",
   "metadata": {},
   "source": [
    "Some of the popular languages that Data Scientists use are:\n",
    "1. Python\n",
    "2. R\n",
    "3. Java\n",
    "4. Scala\n",
    "5. Julia"
   ]
  },
  {
   "cell_type": "markdown",
   "id": "48f05718-1b32-4101-9d33-d08abbeb51a3",
   "metadata": {
    "tags": []
   },
   "source": [
    "Some common libraries used by Data Scientists include:\n",
    "1. NumPy\n",
    "2. Pandas\n",
    "3. SciPy\n",
    "4. Matplotlib\n",
    "5. TensorFlow\n"
   ]
  },
  {
   "cell_type": "markdown",
   "id": "014ca238-5a85-46b7-bd28-d3674c1f1615",
   "metadata": {},
   "source": [
    "|Data Science Tools|\n",
    "|-------|\n",
    "|RStudio|\n",
    "|Apache Spark|\n",
    "|TensorFlow|"
   ]
  },
  {
   "cell_type": "markdown",
   "id": "9e30f1ab-3aa0-4467-b42c-1530322e9f2f",
   "metadata": {},
   "source": [
    "Here are some examples of evaluating arithmetic expressions in Python"
   ]
  },
  {
   "cell_type": "code",
   "execution_count": 1,
   "id": "71c72d6f-0f19-47f2-b55e-e828c55a0170",
   "metadata": {
    "tags": []
   },
   "outputs": [
    {
     "data": {
      "text/plain": [
       "17"
      ]
     },
     "execution_count": 1,
     "metadata": {},
     "output_type": "execute_result"
    }
   ],
   "source": [
    "#This expression multiplies then adds integers\n",
    "(3*4)+5"
   ]
  },
  {
   "cell_type": "code",
   "execution_count": 2,
   "id": "347685a4-0df0-4baa-b6fb-e60364ac7ea5",
   "metadata": {
    "tags": []
   },
   "outputs": [
    {
     "data": {
      "text/plain": [
       "3.3333333333333335"
      ]
     },
     "execution_count": 2,
     "metadata": {},
     "output_type": "execute_result"
    }
   ],
   "source": [
    "# This will convert 200 minutes to hours by dividing by 60\n",
    "200/60"
   ]
  },
  {
   "cell_type": "markdown",
   "id": "6e702935-54e2-4802-8f86-2cc086c314d7",
   "metadata": {
    "tags": []
   },
   "source": [
    "## Author\n",
    "Phoebe"
   ]
  },
  {
   "cell_type": "markdown",
   "id": "bbc0bab4-2f4a-49b0-b0b7-c514f6075fbb",
   "metadata": {},
   "source": []
  }
 ],
 "metadata": {
  "kernelspec": {
   "display_name": "Python",
   "language": "python",
   "name": "conda-env-python-py"
  },
  "language_info": {
   "codemirror_mode": {
    "name": "ipython",
    "version": 3
   },
   "file_extension": ".py",
   "mimetype": "text/x-python",
   "name": "python",
   "nbconvert_exporter": "python",
   "pygments_lexer": "ipython3",
   "version": "3.7.12"
  }
 },
 "nbformat": 4,
 "nbformat_minor": 5
}
